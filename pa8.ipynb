{
 "cells": [
  {
   "cell_type": "code",
   "execution_count": 1,
   "metadata": {},
   "outputs": [],
   "source": [
    "# some useful mysklearn package import statements and reloads\n",
    "import importlib\n",
    "\n",
    "import mysklearn.myutils\n",
    "importlib.reload(mysklearn.myutils)\n",
    "import mysklearn.myutils as myutils\n",
    "\n",
    "# uncomment once you paste your mypytable.py into mysklearn package\n",
    "# import mysklearn.mypytable\n",
    "# importlib.reload(mysklearn.mypytable)\n",
    "# from mysklearn.mypytable import MyPyTable \n",
    "\n",
    "import mysklearn.myclusterer\n",
    "importlib.reload(mysklearn.myclusterer)\n",
    "from mysklearn.myclusterer import MyKMeansClusterer"
   ]
  }
 ],
 "metadata": {
  "interpreter": {
   "hash": "03634b338fa45d156389a4bccc161271443b46ab00a525a3df16b6f48f1d4dee"
  },
  "kernelspec": {
   "display_name": "Python 3.8.5 64-bit",
   "language": "python",
   "name": "python3"
  },
  "language_info": {
   "codemirror_mode": {
    "name": "ipython",
    "version": 3
   },
   "file_extension": ".py",
   "mimetype": "text/x-python",
   "name": "python",
   "nbconvert_exporter": "python",
   "pygments_lexer": "ipython3",
   "version": "3.12.4"
  },
  "orig_nbformat": 2
 },
 "nbformat": 4,
 "nbformat_minor": 2
}
